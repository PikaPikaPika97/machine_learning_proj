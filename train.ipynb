{
 "cells": [
  {
   "cell_type": "code",
   "execution_count": null,
   "metadata": {},
   "outputs": [],
   "source": [
    "from ultralytics import YOLO\n",
    "\n",
    "training_configuration = {\n",
    "    \"data\": \".\\dataset.yaml\",\n",
    "    \"epochs\": 200,\n",
    "    \"batch\": 16,\n",
    "    \"imgsz\": 1024,\n",
    "    \"name\" : \"train_200_epochs\",\n",
    "    \"exist_ok\": True,\n",
    "    \"optimizer\": \"Adam\",\n",
    "    \"single_cls\": False,\n",
    "    \"cos_lr\": True,\n",
    "    \"lr0\": 0.001,\n",
    "    \"lrf\": 0.01,\n",
    "    \"warmup_epochs\": 3,\n",
    "}\n",
    "\n",
    "# Load a model\n",
    "model = YOLO(\"yolo11n.pt\")  # load a pretrained model (recommended for training)\n",
    "\n",
    "# Train the model\n",
    "results = model.train(**training_configuration)"
   ]
  },
  {
   "cell_type": "code",
   "execution_count": null,
   "metadata": {},
   "outputs": [],
   "source": [
    "from dataset import yolo_predictions_to_csv\n",
    "from ultralytics import YOLO\n",
    "\n",
    "model_path = \"/root/code/machine_learning_proj/runs/detect/train_200_epochs/weights/best.pt\"\n",
    "predicting_configuration = {\n",
    "    \"source\": \"/root/autodl-tmp/wheat_dataset/test/*.jpg\",\n",
    "    \"conf\": 0.25,\n",
    "    \"iou\": 0.7,\n",
    "    \"imgsz\": 1024,\n",
    "    \"max_det\": 300,\n",
    "    \"augment\": False,\n",
    "    \"name\": None,\n",
    "    \"show\": False,\n",
    "    \"save\": True,\n",
    "    \"show_labels\": False,\n",
    "}\n",
    "\n",
    "model = YOLO(model_path)\n",
    "results = model.predict(**predicting_configuration)\n",
    "yolo_predictions_to_csv(results, \"submission.csv\")\n"
   ]
  }
 ],
 "metadata": {
  "kernelspec": {
   "display_name": "yolo",
   "language": "python",
   "name": "python3"
  },
  "language_info": {
   "codemirror_mode": {
    "name": "ipython",
    "version": 3
   },
   "file_extension": ".py",
   "mimetype": "text/x-python",
   "name": "python",
   "nbconvert_exporter": "python",
   "pygments_lexer": "ipython3",
   "version": "3.12.8"
  }
 },
 "nbformat": 4,
 "nbformat_minor": 2
}
