{
 "cells": [
  {
   "cell_type": "code",
   "execution_count": null,
   "metadata": {},
   "outputs": [],
   "source": [
    "from ultralytics import YOLO\n",
    "\n",
    "config = {\n",
    "    \"data\": \".\\dataset.yaml\",\n",
    "    \"epochs\":2,\n",
    "    \"batch\":16,\n",
    "    \"imgsz\":512,\n",
    "    \"exist_ok\":True,\n",
    "    \"optimizer\":\"Adam\",\n",
    "    \"single_cls\":False,\n",
    "    \"cos_lr\":True,\n",
    "    \"lr0\":0.001,\n",
    "    \"lrf\":0.01,\n",
    "    \"warmup_epochs\":3,\n",
    "}\n",
    "\n",
    "# Load a model\n",
    "model = YOLO(\"yolo11n.pt\")  # load a pretrained model (recommended for training)\n",
    "\n",
    "# Train the model\n",
    "results = model.train(**config)"
   ]
  }
 ],
 "metadata": {
  "kernelspec": {
   "display_name": "yolo",
   "language": "python",
   "name": "python3"
  },
  "language_info": {
   "codemirror_mode": {
    "name": "ipython",
    "version": 3
   },
   "file_extension": ".py",
   "mimetype": "text/x-python",
   "name": "python",
   "nbconvert_exporter": "python",
   "pygments_lexer": "ipython3",
   "version": "3.12.8"
  }
 },
 "nbformat": 4,
 "nbformat_minor": 2
}
